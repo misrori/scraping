{
  "nbformat": 4,
  "nbformat_minor": 0,
  "metadata": {
    "colab": {
      "provenance": []
    },
    "kernelspec": {
      "name": "python3",
      "display_name": "Python 3"
    },
    "language_info": {
      "name": "python"
    }
  },
  "cells": [
    {
      "cell_type": "code",
      "source": [
        "import requests\n",
        "\n",
        "headers = {\n",
        "    'Content-type': 'application/json',\n",
        "}\n",
        "\n",
        "json_data = {\n",
        "    'text': 'Hello, World!',\n",
        "}\n",
        "\n",
        "response = requests.post(\n",
        "    '',\n",
        "    headers=headers,\n",
        "    json=json_data,\n",
        ")"
      ],
      "metadata": {
        "id": "bRy4iSfkflV4"
      },
      "execution_count": null,
      "outputs": []
    },
    {
      "cell_type": "code",
      "source": [
        "import requests\n",
        "def post_to_slack(message):\n",
        "    headers = {\n",
        "      'Content-type': 'application/json',\n",
        "    }\n",
        "\n",
        "    json_data = {\n",
        "      'text': message,\n",
        "    }\n",
        "\n",
        "    response = requests.post(\n",
        "      '',\n",
        "      headers=headers,\n",
        "      json=json_data,\n",
        "    )\n",
        "\n",
        "\n",
        "post_to_slack('Hello CEU, I am robot!')"
      ],
      "metadata": {
        "id": "E97Vl2qWE5Qf"
      },
      "execution_count": null,
      "outputs": []
    },
    {
      "cell_type": "code",
      "source": [],
      "metadata": {
        "id": "2ACAU9xUh52z"
      },
      "execution_count": null,
      "outputs": []
    }
  ]
}