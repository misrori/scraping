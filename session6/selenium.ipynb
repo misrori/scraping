{
 "cells": [
  {
   "cell_type": "code",
   "execution_count": null,
   "id": "21e6bf22",
   "metadata": {},
   "outputs": [],
   "source": [
    "!pip install selenium"
   ]
  },
  {
   "cell_type": "code",
   "execution_count": 8,
   "id": "02101df8",
   "metadata": {},
   "outputs": [],
   "source": [
    "driver = webdriver.Chrome()\n",
    "driver.get('https://ceu.edu')\n",
    "driver.maximize_window()\n",
    "time.sleep(10)\n",
    "driver.close()"
   ]
  },
  {
   "cell_type": "code",
   "execution_count": null,
   "id": "b36169ca",
   "metadata": {},
   "outputs": [],
   "source": [
    "#!pip install selenium\n",
    "#https://selenium-python.readthedocs.io/locating-elements.html\n",
    "\n",
    "ID = \"id\"\n",
    "NAME = \"name\"\n",
    "XPATH = \"xpath\"\n",
    "LINK_TEXT = \"link text\"\n",
    "PARTIAL_LINK_TEXT = \"partial link text\"\n",
    "TAG_NAME = \"tag name\"\n",
    "CLASS_NAME = \"class name\"\n",
    "CSS_SELECTOR = \"css selector\"\n"
   ]
  },
  {
   "cell_type": "code",
   "execution_count": null,
   "id": "a8ba428e",
   "metadata": {},
   "outputs": [],
   "source": [
    "from selenium import webdriver\n",
    "import time\n",
    "\n",
    "driver = webdriver.Chrome()\n",
    "driver.get(\"https://ceu.edu/\")\n",
    "#driver.fullscreen_window()\n",
    "driver.maximize_window()\n",
    "\n",
    "print('sleep')\n",
    "time.sleep(10)\n",
    "driver.close()"
   ]
  },
  {
   "cell_type": "code",
   "execution_count": null,
   "id": "4c8a23fc",
   "metadata": {
    "scrolled": true
   },
   "outputs": [],
   "source": [
    "from selenium import webdriver\n",
    "import time\n",
    "from selenium.webdriver.common.keys import Keys\n",
    "from selenium.webdriver.common.by import By\n",
    "\n",
    "\n",
    "\n",
    "driver = webdriver.Chrome()\n",
    "driver.get(\"https://www.economist.com/finance-and-economics/\")\n",
    "print('sleep')\n",
    "time.sleep(10)\n",
    "html = driver.find_element(By.TAG_NAME, 'html')\n",
    "html.send_keys(Keys.END)   \n",
    "time.sleep(5)\n",
    "\n",
    "for i in range(1,5):\n",
    "    driver.find_element(By.CLASS_NAME ,\"ds-pagination__item-link\").click()\n",
    "    html = driver.find_element(By.TAG_NAME, 'html')\n",
    "    html.send_keys(Keys.END)    \n",
    "    time.sleep(10)\n",
    "    page = driver.page_source\n",
    "    my_file = open('data_html/page_'+str(i)+'.html', 'w')\n",
    "    my_file.write(page)\n",
    "    my_file.close()\n",
    "    \n",
    "driver.close()\n",
    "\n",
    "print('I am ready')"
   ]
  },
  {
   "cell_type": "code",
   "execution_count": null,
   "id": "f3d1466c",
   "metadata": {},
   "outputs": [],
   "source": [
    "\n"
   ]
  },
  {
   "cell_type": "code",
   "execution_count": null,
   "id": "dd416761",
   "metadata": {
    "scrolled": true
   },
   "outputs": [],
   "source": [
    "from selenium import webdriver\n",
    "import time\n",
    "from selenium.webdriver.support.ui import WebDriverWait\n",
    "\n",
    "from selenium.webdriver.common.keys import Keys\n",
    "\n",
    "driver = webdriver.Chrome()\n",
    "driver.get(\"https://cointelegraph.com/\")\n",
    "driver.fullscreen_window()\n",
    "\n",
    "time.sleep(10)\n",
    "\n",
    "\n",
    "for i in range(1,10):\n",
    "    html = driver.find_element(By.TAG_NAME, 'html')\n",
    "    html.send_keys(Keys.PAGE_DOWN)\n",
    "    #    html.send_keys(Keys.END)    \n",
    "    time.sleep(2)\n",
    "\n",
    "time.sleep(5)\n",
    "driver.close()\n",
    "\n",
    "\n"
   ]
  },
  {
   "cell_type": "code",
   "execution_count": null,
   "id": "bcaf434f",
   "metadata": {},
   "outputs": [],
   "source": [
    "#linkedin\n",
    "from selenium import webdriver\n",
    "import time\n",
    "from selenium.webdriver.common.keys import Keys\n",
    "from lpa import lp\n",
    "start_url = \"https://www.linkedin.com\"\n",
    "driver = webdriver.Chrome()\n",
    "driver.get(start_url)\n",
    "#driver.fullscreen_window()\n",
    "driver.maximize_window()\n",
    "\n",
    "\n",
    "time.sleep(10)\n",
    "driver.find_element(By.NAME,\"session_key\").send_keys(\"ormraat.pte@gmail.com\")\n",
    "driver.find_element(By.NAME,\"session_password\").send_keys(lp)\n",
    "\n",
    "time.sleep(15)\n",
    "\n",
    "driver.find_element(By.CLASS_NAME, \"sign-in-form__submit-btn--full-width\").click()\n"
   ]
  },
  {
   "cell_type": "code",
   "execution_count": null,
   "id": "5c8937b8",
   "metadata": {},
   "outputs": [],
   "source": []
  },
  {
   "cell_type": "code",
   "execution_count": null,
   "id": "cbcd0f25",
   "metadata": {},
   "outputs": [],
   "source": [
    "# !pip install pyvirtualdisplay\n",
    "# sudo apt-get install xvfb\n",
    "# https://selenium-python.readthedocs.io/api.html"
   ]
  },
  {
   "cell_type": "code",
   "execution_count": 26,
   "id": "b852ef99",
   "metadata": {},
   "outputs": [
    {
     "data": {
      "text/plain": [
       "<pyvirtualdisplay.display.Display at 0x7ff51cb159d0>"
      ]
     },
     "execution_count": 26,
     "metadata": {},
     "output_type": "execute_result"
    }
   ],
   "source": [
    "import time\n",
    "from pyvirtualdisplay import Display\n",
    "display = Display(visible=0, size=(1920, 1080)).start()\n",
    "from selenium import webdriver\n",
    "driver = webdriver.Chrome()\n",
    "\n",
    "\n",
    "driver.get(\"https://www.bbc.com/\")\n",
    "time.sleep(15)\n",
    "\n",
    "page = driver.page_source\n",
    "\n",
    "file = open(\"/home/mihaly/python_codes/scraping2023/headlessbbcdemo.html\",'w',encoding='utf-8')\n",
    "file.write(page)\n",
    "file.close()\n",
    "driver.close()\n",
    "display.stop()"
   ]
  },
  {
   "cell_type": "code",
   "execution_count": null,
   "id": "5af99f00",
   "metadata": {},
   "outputs": [],
   "source": []
  }
 ],
 "metadata": {
  "kernelspec": {
   "display_name": "Python 3 (ipykernel)",
   "language": "python",
   "name": "python3"
  },
  "language_info": {
   "codemirror_mode": {
    "name": "ipython",
    "version": 3
   },
   "file_extension": ".py",
   "mimetype": "text/x-python",
   "name": "python",
   "nbconvert_exporter": "python",
   "pygments_lexer": "ipython3",
   "version": "3.9.12"
  }
 },
 "nbformat": 4,
 "nbformat_minor": 5
}
